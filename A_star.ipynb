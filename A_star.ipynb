{
 "cells": [
  {
   "cell_type": "code",
   "execution_count": 7,
   "id": "f1b8b86d",
   "metadata": {},
   "outputs": [
    {
     "name": "stdout",
     "output_type": "stream",
     "text": [
      "Requirement already satisfied: pygame in c:\\users\\zhijun\\miniconda3\\envs\\deeplearn_course\\lib\\site-packages (2.0.3)\n"
     ]
    }
   ],
   "source": [
    "!pip install pygame"
   ]
  },
  {
   "cell_type": "code",
   "execution_count": 8,
   "id": "d2cadf2d",
   "metadata": {},
   "outputs": [],
   "source": [
    "import pygame\n",
    "import math\n",
    "from queue import PriorityQueue"
   ]
  },
  {
   "cell_type": "markdown",
   "id": "390edfcc",
   "metadata": {},
   "source": [
    "Define all the colors we would need for different representations of grids occupance, and the size of the pygame grid layout"
   ]
  },
  {
   "cell_type": "code",
   "execution_count": 9,
   "id": "011e1cb2",
   "metadata": {},
   "outputs": [],
   "source": [
    "WIDTH = 750\n",
    "WIN = pygame.display.set_mode((WIDTH, WIDTH))\n",
    "pygame.display.set_caption(\"A* Path Finding Algorithm\")\n",
    "RED = (255, 0, 0)\n",
    "GREEN = (0, 255, 0)\n",
    "BLUE = (0, 255, 0)\n",
    "YELLOW = (255, 255, 0)\n",
    "WHITE = (255, 255, 255)\n",
    "BLACK = (0, 0, 0)\n",
    "PURPLE = (128, 0, 128)\n",
    "ORANGE = (255, 165, 0)\n",
    "GREY = (128, 128, 128)\n",
    "TURQUOISE = (64, 224, 208)"
   ]
  },
  {
   "cell_type": "markdown",
   "id": "2978533a",
   "metadata": {},
   "source": [
    "define all_cells,neighbors,and final_path. The first defines all the available cells(non occupied/collision), the second defines the neighbors based on all_cells, and the final_path records the shortest path found, return non if no path is found."
   ]
  },
  {
   "cell_type": "code",
   "execution_count": 10,
   "id": "d0960283",
   "metadata": {},
   "outputs": [],
   "source": [
    "all_cells = {}\n",
    "neighbors = {}\n",
    "final_path =[]"
   ]
  },
  {
   "cell_type": "markdown",
   "id": "a6ea7735",
   "metadata": {},
   "source": [
    "set up the pygame grid display based on the width,rows we have defined earlier"
   ]
  },
  {
   "cell_type": "code",
   "execution_count": 11,
   "id": "76657382",
   "metadata": {},
   "outputs": [],
   "source": [
    "def draw_grid(win, rows, width):\n",
    "    gap = width // rows\n",
    "    for i in range(rows):\n",
    "        pygame.draw.line(win, GREY, (0, i * gap), (width, i * gap))\n",
    "        for j in range(rows):\n",
    "            pygame.draw.line(win, GREY, (j * gap, 0), (j * gap, width))"
   ]
  },
  {
   "cell_type": "markdown",
   "id": "d78ddb60",
   "metadata": {},
   "source": [
    "update the grid during the search for better visualization"
   ]
  },
  {
   "cell_type": "code",
   "execution_count": 12,
   "id": "daf20925",
   "metadata": {},
   "outputs": [],
   "source": [
    "def draw(win, all_cells, rows, width):\n",
    "    gap = width //rows\n",
    "    win.fill(WHITE)\n",
    "\n",
    "    for item in all_cells:\n",
    "        pygame.draw.rect(win, all_cells[item], (item[0] * gap, item[1] * gap, gap, gap))\n",
    "\n",
    "    draw_grid(win, rows, width)\n",
    "\n",
    "    pygame.display.update()"
   ]
  },
  {
   "cell_type": "markdown",
   "id": "76a34519",
   "metadata": {},
   "source": [
    "get the positions of mouse clicks, and set the occupance properties of the grid based on the order of selection."
   ]
  },
  {
   "cell_type": "code",
   "execution_count": 13,
   "id": "a905a1d0",
   "metadata": {},
   "outputs": [],
   "source": [
    "def get_clicked_pos(pos, rows, width):\n",
    "    gap = width // rows\n",
    "    y, x = pos\n",
    "\n",
    "    row = y // gap\n",
    "    col = x // gap\n",
    "\n",
    "    return row, col"
   ]
  },
  {
   "cell_type": "markdown",
   "id": "dfbafe81",
   "metadata": {},
   "source": [
    "check if the a particular cell is out of the grid area and if the neighboring cell is a collision cell or not."
   ]
  },
  {
   "cell_type": "code",
   "execution_count": 14,
   "id": "becdb597",
   "metadata": {},
   "outputs": [],
   "source": [
    "def collision_checker(row,col,all_cells):\n",
    "\n",
    "    if row < 0 or col < 0:\n",
    "        return True\n",
    "\n",
    "    if row > 50 - 1 or col > 50 - 1:\n",
    "        return True\n",
    "\n",
    "    return all_cells[(row,col)] == BLACK"
   ]
  },
  {
   "cell_type": "markdown",
   "id": "65092d2f",
   "metadata": {},
   "source": [
    "check the neighbors of a particular cell by checking its upper,left,right and below cell, and see if any of them are colliding cells. Saved the non colliding neighbors in the neighbor array. Do this for every cell."
   ]
  },
  {
   "cell_type": "code",
   "execution_count": 15,
   "id": "ce829346",
   "metadata": {},
   "outputs": [],
   "source": [
    "def update_neighbors(row,col,oc):\n",
    "    temp_neighbors = []\n",
    "\n",
    "    if not collision_checker(row + 1, col,oc):  # DOWN\n",
    "        temp_neighbors.append([row + 1,col])\n",
    "\n",
    "    if not collision_checker(row - 1, col,oc):  # UP\n",
    "        temp_neighbors.append( [row - 1,col])\n",
    "\n",
    "    if not collision_checker(row, col + 1,oc):  # RIGHT\n",
    "        temp_neighbors.append( [row,col + 1])\n",
    "\n",
    "    if not collision_checker(row, col - 1,oc):  # LEFT\n",
    "        temp_neighbors.append( [row,col - 1])\n",
    "\n",
    "    neighbors[row,col] = temp_neighbors"
   ]
  },
  {
   "cell_type": "markdown",
   "id": "cae69979",
   "metadata": {},
   "source": [
    "The manhattan distance heuristics used in the a star search."
   ]
  },
  {
   "cell_type": "code",
   "execution_count": 16,
   "id": "4098ff17",
   "metadata": {},
   "outputs": [],
   "source": [
    "def heu(x1, y1, x2, y2):\n",
    "    \n",
    "    return abs(x1 - x2) + abs(y1 - y2)"
   ]
  },
  {
   "cell_type": "markdown",
   "id": "b59bf3e9",
   "metadata": {},
   "source": [
    "The a star search algorithm. See the comments for explaination on each line of code."
   ]
  },
  {
   "cell_type": "code",
   "execution_count": 17,
   "id": "78f88e81",
   "metadata": {},
   "outputs": [],
   "source": [
    "def a_star_algorithm(draw,grid, start, goal, height, width):\n",
    "\n",
    "    # a priority queue would help us to always pick the smallest a star value from the first element\n",
    "    all_a_star_score = PriorityQueue()\n",
    "\n",
    "    # heuristic list to keep track of all grid's updated heuristic\n",
    "    heuristics = {}\n",
    "\n",
    "    # list that states all grids' a star score\n",
    "    a_star_score_list = {}\n",
    "\n",
    "    # assign heuristics to all grids\n",
    "    for i in range(width):\n",
    "        for w in range(height):\n",
    "            heuristics[(i, w)] = heu(i, w, goal[0], goal[1])\n",
    "\n",
    "    # set all grids' a star score to infinity\n",
    "    for i in range(width):\n",
    "        for w in range(height):\n",
    "            a_star_score_list[(i, w)] = float(\"inf\")\n",
    "    # assign start node's a star score as 0\n",
    "    a_star_score_list[start] = 0\n",
    "\n",
    "    # initialize the queue\n",
    "    all_a_star_score.put(0 + heuristics[(start[0], start[1])])\n",
    "    all_a_star_score_dic = {(start, start): 0 + heuristics[(start[0], start[1])]}\n",
    "    loop = True\n",
    "\n",
    "    while all_a_star_score.not_empty and loop:\n",
    "\n",
    "        # find the path with the minimal a star score\n",
    "        try:\n",
    "            minimal_path = list(all_a_star_score_dic.keys())[\n",
    "                list(all_a_star_score_dic.values()).index(all_a_star_score.get(0))]\n",
    "\n",
    "        except:\n",
    "            print(\"no path found\")\n",
    "            return []\n",
    "            break\n",
    "\n",
    "        del all_a_star_score_dic[minimal_path]\n",
    "\n",
    "        # start from the last node in the minimal a star score path\n",
    "        last_minimal_path = minimal_path[-1]\n",
    "        # print(last_minimal_path,\"path\")\n",
    "        all_cells[last_minimal_path] = RED\n",
    "        all_cells[start] = ORANGE\n",
    "        draw()\n",
    "\n",
    "\n",
    "        if last_minimal_path[0] == goal[0] and last_minimal_path[1] == goal[1] or last_minimal_path[0] == goal[0]-1 and last_minimal_path[1] == goal[1] or last_minimal_path[0] == goal[0]+1 and last_minimal_path[1] == goal[1]or last_minimal_path[0] == goal[0] and last_minimal_path[1] == goal[1]-1or last_minimal_path[0] == goal[0] and last_minimal_path[1] == goal[1]+1:\n",
    "\n",
    "            for item in minimal_path:\n",
    "                all_cells[start] = ORANGE\n",
    "                all_cells[item] = PURPLE\n",
    "                draw()\n",
    "            return tuple(minimal_path)\n",
    "\n",
    "        # find all neighbors of d[minimal_path] e.g(1,1)\n",
    "        for neighbors in grid[last_minimal_path]:\n",
    "\n",
    "            temp = (neighbors[0], neighbors[1])\n",
    "\n",
    "            if (temp == goal):\n",
    "\n",
    "                one_more_node = ()\n",
    "\n",
    "                for item in minimal_path:\n",
    "                    one_more_node = one_more_node + (item,)\n",
    "\n",
    "                one_more_node = one_more_node + ((tuple(neighbors)),)\n",
    "\n",
    "                loop = False\n",
    "                return one_more_node\n",
    "            else:\n",
    "                # calculate a star score of that neighbor (heuristics of itself + cost between different grid, assume all is 1)\n",
    "                a_star_score = len(minimal_path) + heuristics[temp]\n",
    "\n",
    "                # update a star score of that neighbor if the new a_star_score is smaller\n",
    "                if a_star_score < a_star_score_list[temp]:\n",
    "\n",
    "                    a_star_score_list[temp] = a_star_score\n",
    "\n",
    "                    # put all a star score of different neighbours into the priority queue to find the minimal\n",
    "                    all_a_star_score.put(a_star_score)\n",
    "\n",
    "                    # compute a path that made up of different points with the calculated a star score\n",
    "\n",
    "                    one_more_node = ()\n",
    "\n",
    "                    for item in minimal_path:\n",
    "                        one_more_node = one_more_node + (item,)\n",
    "\n",
    "                    one_more_node = one_more_node + ((tuple(neighbors)),)\n",
    "                    all_a_star_score_dic[(one_more_node)] = a_star_score"
   ]
  },
  {
   "cell_type": "markdown",
   "id": "24efc9d9",
   "metadata": {},
   "source": [
    "A function that sets up the environment for the pygame. Updates the graph, path and cell occupance type."
   ]
  },
  {
   "cell_type": "code",
   "execution_count": 18,
   "id": "41e72d6b",
   "metadata": {},
   "outputs": [],
   "source": [
    "def main(win, width):\n",
    "    ROWS = 50\n",
    "\n",
    "    for i in range(ROWS):\n",
    "        for w in range(ROWS):\n",
    "            all_cells[(i,w)] =WHITE\n",
    "    run = True\n",
    "\n",
    "    start_flag = True\n",
    "    start = None\n",
    "    end_flag = True\n",
    "    end = None\n",
    "\n",
    "    while run:\n",
    "        draw(win, all_cells, ROWS, width)\n",
    "        for event in pygame.event.get():\n",
    "            if event.type == pygame.QUIT:\n",
    "                run = False\n",
    "\n",
    "            if pygame.mouse.get_pressed()[0]:  # LEFT\n",
    "                pos = pygame.mouse.get_pos()\n",
    "                row, col = get_clicked_pos(pos, ROWS, width)\n",
    "\n",
    "\n",
    "                if start_flag:\n",
    "                    all_cells[(row, col)] = ORANGE\n",
    "                    start = (row,col)\n",
    "                    start_flag = False\n",
    "\n",
    "                elif end_flag:\n",
    "                    all_cells[(row, col)] = BLUE\n",
    "                    end = (row, col)\n",
    "                    end_flag = False\n",
    "                else:\n",
    "                    all_cells[(row,col)] = BLACK\n",
    "\n",
    "\n",
    "\n",
    "            if event.type == pygame.KEYDOWN:\n",
    "                if event.key == pygame.K_SPACE:\n",
    "\n",
    "                    unoccupied_cells = []\n",
    "                    for item in all_cells:\n",
    "\n",
    "                        if all_cells[item] != BLACK:\n",
    "\n",
    "                            unoccupied_cells.append(item)\n",
    "\n",
    "\n",
    "\n",
    "                    for item in unoccupied_cells:\n",
    "\n",
    "                        update_neighbors(item[0],item[1],all_cells)\n",
    "\n",
    "                    p = a_star_algorithm(lambda: draw(win, all_cells, ROWS, width), neighbors, start, end,ROWS,ROWS)\n",
    "\n",
    "\n",
    "    pygame.quit()"
   ]
  },
  {
   "cell_type": "code",
   "execution_count": 19,
   "id": "d6aca520",
   "metadata": {},
   "outputs": [],
   "source": [
    "main(WIN, WIDTH)"
   ]
  }
 ],
 "metadata": {
  "kernelspec": {
   "display_name": "Python 3 (ipykernel)",
   "language": "python",
   "name": "python3"
  },
  "language_info": {
   "codemirror_mode": {
    "name": "ipython",
    "version": 3
   },
   "file_extension": ".py",
   "mimetype": "text/x-python",
   "name": "python",
   "nbconvert_exporter": "python",
   "pygments_lexer": "ipython3",
   "version": "3.7.10"
  }
 },
 "nbformat": 4,
 "nbformat_minor": 5
}
